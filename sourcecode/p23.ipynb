{
 "cells": [
  {
   "cell_type": "markdown",
   "id": "5d051978-922f-45c3-aa30-c5d39bd02b57",
   "metadata": {},
   "source": [
    "### 矩阵奇异值分解"
   ]
  },
  {
   "cell_type": "code",
   "execution_count": 1,
   "id": "c8463194-d7e8-4e3a-a6ad-f2b3e0402637",
   "metadata": {
    "tags": []
   },
   "outputs": [],
   "source": [
    "import numpy as np\n",
    "from scipy import linalg"
   ]
  },
  {
   "cell_type": "code",
   "execution_count": 2,
   "id": "70388a2b-0fe1-4207-8e81-f75554e897e6",
   "metadata": {
    "tags": []
   },
   "outputs": [
    {
     "data": {
      "text/plain": [
       "array([[1, 2, 3],\n",
       "       [4, 5, 6]])"
      ]
     },
     "execution_count": 2,
     "metadata": {},
     "output_type": "execute_result"
    }
   ],
   "source": [
    "A = np.array([[1,2,3],[4,5,6]])\n",
    "A"
   ]
  },
  {
   "cell_type": "code",
   "execution_count": 3,
   "id": "ad2f0a14-791b-4593-ad21-61e9c684b129",
   "metadata": {
    "tags": []
   },
   "outputs": [
    {
     "name": "stdout",
     "output_type": "stream",
     "text": [
      "[[-0.3863177  -0.92236578]\n",
      " [-0.92236578  0.3863177 ]]\n",
      "[9.508032   0.77286964]\n",
      "[[-0.42866713 -0.56630692 -0.7039467 ]\n",
      " [ 0.80596391  0.11238241 -0.58119908]\n",
      " [ 0.40824829 -0.81649658  0.40824829]]\n"
     ]
    }
   ],
   "source": [
    "M,N = A.shape\n",
    "# 奇异值分解\n",
    "U,s,Vh = linalg.svd(A)\n",
    "print(U)\n",
    "print(s)\n",
    "print(Vh)"
   ]
  },
  {
   "cell_type": "code",
   "execution_count": 4,
   "id": "6781f263-db2c-4a8e-a42c-3e88b3eec7fd",
   "metadata": {
    "tags": []
   },
   "outputs": [
    {
     "name": "stdout",
     "output_type": "stream",
     "text": [
      "[[9.508032   0.         0.        ]\n",
      " [0.         0.77286964 0.        ]]\n"
     ]
    }
   ],
   "source": [
    "# 奇异值分解 对角矩阵\n",
    "Sig = linalg.diagsvd(s,M,N)\n",
    "print(Sig)"
   ]
  },
  {
   "cell_type": "code",
   "execution_count": 5,
   "id": "c0d9782e-9f8b-4a52-aaf4-d1f8d3e99376",
   "metadata": {
    "tags": []
   },
   "outputs": [
    {
     "name": "stdout",
     "output_type": "stream",
     "text": [
      "[[1. 2. 3.]\n",
      " [4. 5. 6.]]\n"
     ]
    }
   ],
   "source": [
    "print(U.dot(Sig.dot(Vh)))"
   ]
  }
 ],
 "metadata": {
  "kernelspec": {
   "display_name": "Python 3 (ipykernel)",
   "language": "python",
   "name": "python3"
  },
  "language_info": {
   "codemirror_mode": {
    "name": "ipython",
    "version": 3
   },
   "file_extension": ".py",
   "mimetype": "text/x-python",
   "name": "python",
   "nbconvert_exporter": "python",
   "pygments_lexer": "ipython3",
   "version": "3.10.10"
  }
 },
 "nbformat": 4,
 "nbformat_minor": 5
}
