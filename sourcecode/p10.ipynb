{
 "cells": [
  {
   "cell_type": "markdown",
   "id": "2f7bb4f9-02f3-4916-a1e7-fe6ed2bc162f",
   "metadata": {},
   "source": [
    "### 一元函数求根"
   ]
  },
  {
   "cell_type": "code",
   "execution_count": 1,
   "id": "6dfa9784-8e2b-4677-b032-4912c6daaca2",
   "metadata": {
    "tags": []
   },
   "outputs": [],
   "source": [
    "from scipy import optimize\n",
    "# 定义目标函数\n",
    "def f(x):\n",
    "    return (x**3 - 1)  # only one real root at x = 1\n",
    "# 导数\n",
    "def fprime(x):\n",
    "    return 3*x**2"
   ]
  },
  {
   "cell_type": "code",
   "execution_count": 2,
   "id": "1c9c7367-c1a1-479c-bee6-3f191020b69d",
   "metadata": {
    "tags": []
   },
   "outputs": [
    {
     "name": "stdout",
     "output_type": "stream",
     "text": [
      "1.0 10 11\n"
     ]
    }
   ],
   "source": [
    "sol = optimize.root_scalar(\n",
    "    f, # 目标函数\n",
    "    bracket=[0, 3], # 寻根区间\n",
    "    method=\"brentq\"\n",
    ")\n",
    "print(sol.root, sol.iterations, sol.function_calls)"
   ]
  },
  {
   "cell_type": "code",
   "execution_count": 3,
   "id": "70263660-55d3-41f0-935f-21b6ef34a1fd",
   "metadata": {
    "tags": []
   },
   "outputs": [
    {
     "name": "stdout",
     "output_type": "stream",
     "text": [
      "1.0 11 22\n"
     ]
    }
   ],
   "source": [
    "sol = optimize.root_scalar(\n",
    "    f, \n",
    "    x0=0.2, # 初始值\n",
    "    fprime=fprime, # 导数\n",
    "    method=\"newton\"\n",
    ")\n",
    "print(sol.root, sol.iterations, sol.function_calls)"
   ]
  }
 ],
 "metadata": {
  "kernelspec": {
   "display_name": "Python 3 (ipykernel)",
   "language": "python",
   "name": "python3"
  },
  "language_info": {
   "codemirror_mode": {
    "name": "ipython",
    "version": 3
   },
   "file_extension": ".py",
   "mimetype": "text/x-python",
   "name": "python",
   "nbconvert_exporter": "python",
   "pygments_lexer": "ipython3",
   "version": "3.10.10"
  }
 },
 "nbformat": 4,
 "nbformat_minor": 5
}
