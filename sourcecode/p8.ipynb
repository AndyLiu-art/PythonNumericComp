{
 "cells": [
  {
   "cell_type": "markdown",
   "id": "01ca515e-dba3-4c0c-ba67-329dd6b7cd74",
   "metadata": {},
   "source": [
    "### 一元函数无约束最优化问题"
   ]
  },
  {
   "cell_type": "code",
   "execution_count": 1,
   "id": "7ea932d9-d03b-4077-a9d9-6603a8672bbf",
   "metadata": {
    "tags": []
   },
   "outputs": [
    {
     "name": "stdout",
     "output_type": "stream",
     "text": [
      " message: \n",
      "          Optimization terminated successfully;\n",
      "          The returned value satisfies the termination criteria\n",
      "          (using xtol = 1.48e-08 )\n",
      " success: True\n",
      "     fun: -4.0\n",
      "       x: 1.0\n",
      "     nit: 7\n",
      "    nfev: 10\n"
     ]
    }
   ],
   "source": [
    "from scipy.optimize import minimize_scalar\n",
    "# 定义函数\n",
    "f = lambda x: (x - 2) * (x + 1)**2\n",
    "res = minimize_scalar(f, method=\"brent\")\n",
    "print(res)"
   ]
  },
  {
   "cell_type": "code",
   "execution_count": 2,
   "id": "f2e2106c-a910-4f6a-8efc-60e2d0f9b9be",
   "metadata": {
    "tags": []
   },
   "outputs": [
    {
     "name": "stdout",
     "output_type": "stream",
     "text": [
      "1.0\n"
     ]
    }
   ],
   "source": [
    "# 最优点\n",
    "print(res.x)"
   ]
  }
 ],
 "metadata": {
  "kernelspec": {
   "display_name": "Python 3 (ipykernel)",
   "language": "python",
   "name": "python3"
  },
  "language_info": {
   "codemirror_mode": {
    "name": "ipython",
    "version": 3
   },
   "file_extension": ".py",
   "mimetype": "text/x-python",
   "name": "python",
   "nbconvert_exporter": "python",
   "pygments_lexer": "ipython3",
   "version": "3.10.10"
  }
 },
 "nbformat": 4,
 "nbformat_minor": 5
}
