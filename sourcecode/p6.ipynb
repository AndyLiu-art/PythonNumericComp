{
 "cells": [
  {
   "cell_type": "markdown",
   "id": "429f9556-f416-43d4-90d2-8c481482a695",
   "metadata": {},
   "source": [
    "### 多元函数有约束的最优化问题"
   ]
  },
  {
   "cell_type": "markdown",
   "id": "43de04e0-ae14-46bc-81b8-445a65c1add7",
   "metadata": {},
   "source": [
    "求解约束问题如下"
   ]
  },
  {
   "cell_type": "markdown",
   "id": "f1fccc6e-a699-4d6d-91fe-e4bf778f7521",
   "metadata": {},
   "source": [
    "$$\n",
    "\\min\\limits_{x_0,x_1}\\; 100(x_1-x^2_0)^2+(1-x_0)^2\\\\\n",
    "\\text{subject to:}\\\\\n",
    "x_0+2x_1\\le 1\\\\\n",
    "x^2_0+x_1\\le 1\\\\\n",
    "x^2_0-x_1\\le 1\\\\\n",
    "2x_0+x_1=1\\\\\n",
    "0\\le x_0\\le 1\\\\\n",
    "-0.5\\le x_1\\le 2\n",
    "$$"
   ]
  },
  {
   "cell_type": "code",
   "execution_count": 1,
   "id": "492ae647-fc2b-4597-828a-9aee004afcf2",
   "metadata": {
    "tags": []
   },
   "outputs": [],
   "source": [
    "import numpy as np"
   ]
  },
  {
   "cell_type": "code",
   "execution_count": 2,
   "id": "92358a51-f460-498a-8419-ac19836cd27d",
   "metadata": {
    "tags": []
   },
   "outputs": [],
   "source": [
    "from scipy.optimize import Bounds\n",
    "# 定义变量的边界\n",
    "bounds = Bounds(\n",
    "    [0, -0.5], # 下界\n",
    "    [1.0, 2.0] # 上界\n",
    ")"
   ]
  },
  {
   "cell_type": "code",
   "execution_count": 3,
   "id": "d6d111f6-d3cb-4ce6-8be2-ea2cd0150709",
   "metadata": {
    "tags": []
   },
   "outputs": [],
   "source": [
    "from scipy.optimize import LinearConstraint\n",
    "# 定义线性约束\n",
    "linear_constraint = LinearConstraint(\n",
    "    [\n",
    "        [1, 2], \n",
    "        [2, 1]\n",
    "    ], \n",
    "    [-np.inf, 1], # 下界\n",
    "    [1, 1] # 上界\n",
    ")"
   ]
  },
  {
   "cell_type": "code",
   "execution_count": 4,
   "id": "47cbfa78-e273-4a2e-808b-833f6024c649",
   "metadata": {
    "tags": []
   },
   "outputs": [],
   "source": [
    "# 非线性约束 \n",
    "def cons_f(x):\n",
    "    return [\n",
    "        x[0]**2 + x[1], \n",
    "        x[0]**2 - x[1]\n",
    "    ]\n",
    "# 非线性约束的雅可比形式\n",
    "def cons_J(x):\n",
    "    return [\n",
    "        [2*x[0], 1], \n",
    "        [2*x[0], -1]\n",
    "    ]\n",
    "# 黑塞矩阵的线性组合\n",
    "def cons_H(x, v):\n",
    "    return v[0]*np.array(\n",
    "        [\n",
    "            [2, 0], \n",
    "            [0, 0]\n",
    "        ]\n",
    "    ) + v[1]*np.array(\n",
    "        [\n",
    "            [2, 0], \n",
    "            [0, 0]\n",
    "        ]\n",
    "    )\n",
    "from scipy.optimize import NonlinearConstraint\n",
    "# 构造非线性约束\n",
    "nonlinear_constraint = NonlinearConstraint(\n",
    "    cons_f, \n",
    "    -np.inf, # 下界\n",
    "    1, # 上界\n",
    "    jac=cons_J, \n",
    "    hess=cons_H\n",
    ")"
   ]
  },
  {
   "cell_type": "code",
   "execution_count": 5,
   "id": "279c61d6-9e5e-4279-945d-de27e8292583",
   "metadata": {
    "tags": []
   },
   "outputs": [],
   "source": [
    "from scipy.optimize import minimize\n",
    "# 初始值\n",
    "x0 = np.array([0.5, 0])\n",
    "# 最优化目标函数\n",
    "def rosen(x):\n",
    "    \"\"\"The Rosenbrock function\"\"\"\n",
    "    return sum(100.0*(x[1:]-x[:-1]**2.0)**2.0 + (1-x[:-1])**2.0)\n",
    "# 目标函数的导数\n",
    "def rosen_der(x):\n",
    "    xm = x[1:-1]\n",
    "    xm_m1 = x[:-2]\n",
    "    xm_p1 = x[2:]\n",
    "    der = np.zeros_like(x)\n",
    "    der[1:-1] = 200*(xm-xm_m1**2) - 400*(xm_p1 - xm**2)*xm - 2*(1-xm)\n",
    "    der[0] = -400*x[0]*(x[1]-x[0]**2) - 2*(1-x[0])\n",
    "    der[-1] = 200*(x[-1]-x[-2]**2)\n",
    "    return der\n",
    "# 目标函数的黑塞矩阵\n",
    "def rosen_hess(x):\n",
    "    x = np.asarray(x)\n",
    "    H = np.diag(-400*x[:-1],1) - np.diag(400*x[:-1],-1)\n",
    "    diagonal = np.zeros_like(x)\n",
    "    diagonal[0] = 1200*x[0]**2-400*x[1]+2\n",
    "    diagonal[-1] = 200\n",
    "    diagonal[1:-1] = 202 + 1200*x[1:-1]**2 - 400*x[2:]\n",
    "    H = H + np.diag(diagonal)\n",
    "    return H"
   ]
  },
  {
   "cell_type": "code",
   "execution_count": 6,
   "id": "c4f88d8c-630e-46eb-9e52-86403e2be17a",
   "metadata": {
    "tags": []
   },
   "outputs": [
    {
     "name": "stdout",
     "output_type": "stream",
     "text": [
      "`gtol` termination condition is satisfied.\n",
      "Number of iterations: 12, function evaluations: 8, CG iterations: 7, optimality: 2.99e-09, constraint violation: 0.00e+00, execution time: 0.047 s.\n",
      "           message: `gtol` termination condition is satisfied.\n",
      "           success: True\n",
      "            status: 1\n",
      "               fun: 0.3427175756422305\n",
      "                 x: [ 4.149e-01  1.701e-01]\n",
      "               nit: 12\n",
      "              nfev: 8\n",
      "              njev: 8\n",
      "              nhev: 8\n",
      "          cg_niter: 7\n",
      "      cg_stop_cond: 1\n",
      "              grad: [-8.265e-01 -4.140e-01]\n",
      "   lagrangian_grad: [ 1.495e-09 -2.990e-09]\n",
      "            constr: [array([ 7.552e-01,  1.000e+00]), array([ 3.423e-01,  2.070e-03]), array([ 4.149e-01,  1.701e-01])]\n",
      "               jac: [array([[ 1.000e+00,  2.000e+00],\n",
      "                           [ 2.000e+00,  1.000e+00]]), array([[ 8.299e-01,  1.000e+00],\n",
      "                           [ 8.299e-01, -1.000e+00]]), array([[ 1.000e+00,  0.000e+00],\n",
      "                           [ 0.000e+00,  1.000e+00]])]\n",
      "       constr_nfev: [0, 8, 0]\n",
      "       constr_njev: [0, 8, 0]\n",
      "       constr_nhev: [0, 13, 0]\n",
      "                 v: [array([ 6.536e-04,  4.128e-01]), array([ 2.433e-04,  1.603e-04]), array([-1.121e-04, -1.513e-04])]\n",
      "            method: tr_interior_point\n",
      "        optimality: 2.989621706689068e-09\n",
      "  constr_violation: 0.0\n",
      "    execution_time: 0.046998023986816406\n",
      "         tr_radius: 3834.1597660672387\n",
      "    constr_penalty: 1.0\n",
      " barrier_parameter: 0.00016000000000000007\n",
      " barrier_tolerance: 0.00016000000000000007\n",
      "             niter: 12\n"
     ]
    }
   ],
   "source": [
    "res = minimize(\n",
    "    rosen, # 目标函数\n",
    "    x0, # 初始值\n",
    "    method=\"trust-constr\", # 求解算法\n",
    "    jac=rosen_der, # 梯度\n",
    "    hess=rosen_hess, # 黑塞矩阵\n",
    "    constraints=[linear_constraint, nonlinear_constraint], # 约束\n",
    "    options={\"verbose\": 1}, \n",
    "    bounds=bounds # 变量范围\n",
    ")\n",
    "print(res)"
   ]
  },
  {
   "cell_type": "code",
   "execution_count": 7,
   "id": "8e2781b3-399a-48c6-b0b7-7df6ae852dbd",
   "metadata": {
    "tags": []
   },
   "outputs": [
    {
     "name": "stdout",
     "output_type": "stream",
     "text": [
      "[0.41494531 0.17010937]\n"
     ]
    }
   ],
   "source": [
    "# 最优化的点\n",
    "print(res.x)"
   ]
  },
  {
   "cell_type": "code",
   "execution_count": 8,
   "id": "e47daa5e-a3f6-4ec5-ba56-b505939680ca",
   "metadata": {
    "tags": []
   },
   "outputs": [],
   "source": [
    "# 定义不等式约束\n",
    "ineq_cons = {\n",
    "    \"type\": \"ineq\", # 不等式约束\n",
    "    \"fun\" : lambda x: np.array(\n",
    "        [\n",
    "            1 - x[0] - 2*x[1],\n",
    "            1 - x[0]**2 - x[1],\n",
    "            1 - x[0]**2 + x[1]\n",
    "        ]\n",
    "    ),\n",
    "    \"jac\" : lambda x: np.array(\n",
    "        [\n",
    "            [-1.0, -2.0],\n",
    "            [-2*x[0], -1.0],\n",
    "            [-2*x[0], 1.0]\n",
    "        ]\n",
    "    )\n",
    "}\n",
    "# 定义等式约束\n",
    "eq_cons = {\n",
    "    \"type\": \"eq\",\n",
    "    \"fun\" : lambda x: np.array([2*x[0] + x[1] - 1]),\n",
    "    \"jac\" : lambda x: np.array([2.0, 1.0])\n",
    "}"
   ]
  },
  {
   "cell_type": "code",
   "execution_count": 9,
   "id": "c945b952-3b49-40f7-bf56-8a0e25caa93a",
   "metadata": {
    "tags": []
   },
   "outputs": [
    {
     "name": "stdout",
     "output_type": "stream",
     "text": [
      "Optimization terminated successfully    (Exit mode 0)\n",
      "            Current function value: 0.34271757499419825\n",
      "            Iterations: 4\n",
      "            Function evaluations: 5\n",
      "            Gradient evaluations: 4\n",
      " message: Optimization terminated successfully\n",
      " success: True\n",
      "  status: 0\n",
      "     fun: 0.34271757499419825\n",
      "       x: [ 4.149e-01  1.701e-01]\n",
      "     nit: 4\n",
      "     jac: [-8.268e-01 -4.137e-01]\n",
      "    nfev: 5\n",
      "    njev: 4\n"
     ]
    }
   ],
   "source": [
    "x0 = np.array([0.5, 0])\n",
    "res = minimize(\n",
    "    rosen, \n",
    "    x0, \n",
    "    method=\"SLSQP\", \n",
    "    jac=rosen_der,\n",
    "    constraints=[eq_cons, ineq_cons], \n",
    "    options={\"ftol\": 1e-9, \"disp\": True},\n",
    "    bounds=bounds\n",
    ")\n",
    "print(res)"
   ]
  },
  {
   "cell_type": "code",
   "execution_count": 10,
   "id": "17b3c360-081e-4450-aeb0-8d55f73b1d39",
   "metadata": {
    "tags": []
   },
   "outputs": [
    {
     "name": "stdout",
     "output_type": "stream",
     "text": [
      "[0.41494475 0.1701105 ]\n"
     ]
    }
   ],
   "source": [
    "# 最优化的点\n",
    "print(res.x)"
   ]
  }
 ],
 "metadata": {
  "kernelspec": {
   "display_name": "Python 3 (ipykernel)",
   "language": "python",
   "name": "python3"
  },
  "language_info": {
   "codemirror_mode": {
    "name": "ipython",
    "version": 3
   },
   "file_extension": ".py",
   "mimetype": "text/x-python",
   "name": "python",
   "nbconvert_exporter": "python",
   "pygments_lexer": "ipython3",
   "version": "3.10.10"
  }
 },
 "nbformat": 4,
 "nbformat_minor": 5
}
