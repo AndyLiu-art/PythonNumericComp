{
 "cells": [
  {
   "cell_type": "markdown",
   "id": "9bc966d1-e0e6-44fd-94a1-a354eb7ab18c",
   "metadata": {},
   "source": [
    "### 一元函数有界约束最优化问题"
   ]
  },
  {
   "cell_type": "code",
   "execution_count": 1,
   "id": "e877bb56-0de3-4155-a458-68ae1b725c7b",
   "metadata": {
    "tags": []
   },
   "outputs": [
    {
     "name": "stdout",
     "output_type": "stream",
     "text": [
      " message: Solution found.\n",
      " success: True\n",
      "  status: 0\n",
      "     fun: -3.999999999953027\n",
      "       x: 1.0000039570068944\n",
      "     nit: 20\n",
      "    nfev: 20\n"
     ]
    }
   ],
   "source": [
    "from scipy.optimize import minimize_scalar\n",
    "# 定义函数\n",
    "f = lambda x: (x - 2) * (x + 1)**2\n",
    "res = minimize_scalar(f, bounds=(1,10), method=\"bounded\")\n",
    "print(res)"
   ]
  },
  {
   "cell_type": "code",
   "execution_count": 2,
   "id": "10092041-a8c8-4337-9d5b-d2c9a5c63e58",
   "metadata": {
    "tags": []
   },
   "outputs": [
    {
     "name": "stdout",
     "output_type": "stream",
     "text": [
      "1.0000039570068944\n"
     ]
    }
   ],
   "source": [
    "# 最优点\n",
    "print(res.x)"
   ]
  }
 ],
 "metadata": {
  "kernelspec": {
   "display_name": "Python 3 (ipykernel)",
   "language": "python",
   "name": "python3"
  },
  "language_info": {
   "codemirror_mode": {
    "name": "ipython",
    "version": 3
   },
   "file_extension": ".py",
   "mimetype": "text/x-python",
   "name": "python",
   "nbconvert_exporter": "python",
   "pygments_lexer": "ipython3",
   "version": "3.10.10"
  }
 },
 "nbformat": 4,
 "nbformat_minor": 5
}
