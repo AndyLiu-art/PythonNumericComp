{
 "cells": [
  {
   "cell_type": "markdown",
   "id": "2f7b2d19-6434-4ea0-b550-9d2082f2952c",
   "metadata": {
    "tags": []
   },
   "source": [
    "### 辛普森法计算积分"
   ]
  },
  {
   "cell_type": "code",
   "execution_count": 1,
   "id": "320ea894-c3f4-4c0f-ae0e-ab2086e596bf",
   "metadata": {
    "tags": []
   },
   "outputs": [],
   "source": [
    "# 导入积分模块\n",
    "import scipy.integrate as integrate\n",
    "# 导入基础计算库\n",
    "import numpy as np"
   ]
  },
  {
   "cell_type": "code",
   "execution_count": 2,
   "id": "d42eb08e-104d-419e-b40b-9982afcb22d4",
   "metadata": {
    "tags": []
   },
   "outputs": [],
   "source": [
    "def f1(x):\n",
    "   return x**2\n",
    "\n",
    "def f2(x):\n",
    "   return x**3"
   ]
  },
  {
   "cell_type": "code",
   "execution_count": 3,
   "id": "82d0ad3e-2e0a-4efe-b832-4cb2fc0ec24b",
   "metadata": {
    "tags": []
   },
   "outputs": [
    {
     "name": "stdout",
     "output_type": "stream",
     "text": [
      "21.0\n"
     ]
    }
   ],
   "source": [
    "x = np.array([1,3,4])\n",
    "y1 = f1(x)\n",
    "# 辛普森数值计算积分\n",
    "I1 = integrate.simpson(y1, x)\n",
    "print(I1)"
   ]
  },
  {
   "cell_type": "code",
   "execution_count": 4,
   "id": "03de1d8e-19f0-4d6e-a406-018c79c2995e",
   "metadata": {
    "tags": []
   },
   "outputs": [
    {
     "name": "stdout",
     "output_type": "stream",
     "text": [
      "61.5\n"
     ]
    }
   ],
   "source": [
    "y2 = f2(x)\n",
    "I2 = integrate.simpson(y2, x)\n",
    "print(I2)"
   ]
  }
 ],
 "metadata": {
  "kernelspec": {
   "display_name": "Python 3 (ipykernel)",
   "language": "python",
   "name": "python3"
  },
  "language_info": {
   "codemirror_mode": {
    "name": "ipython",
    "version": 3
   },
   "file_extension": ".py",
   "mimetype": "text/x-python",
   "name": "python",
   "nbconvert_exporter": "python",
   "pygments_lexer": "ipython3",
   "version": "3.10.10"
  }
 },
 "nbformat": 4,
 "nbformat_minor": 5
}
