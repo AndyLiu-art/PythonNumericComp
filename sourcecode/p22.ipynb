{
 "cells": [
  {
   "cell_type": "markdown",
   "id": "f2fa2066-5837-49d6-b1fd-8878a377f287",
   "metadata": {},
   "source": [
    "### 矩阵特征分解（特征值和特征向量）"
   ]
  },
  {
   "cell_type": "code",
   "execution_count": 1,
   "id": "1c55440d-2d01-4f2d-a53a-89a0bac51e6a",
   "metadata": {
    "tags": []
   },
   "outputs": [],
   "source": [
    "import numpy as np\n",
    "from scipy import linalg"
   ]
  },
  {
   "cell_type": "code",
   "execution_count": 2,
   "id": "a18ffc5f-2201-40fa-84a7-ab0c65996808",
   "metadata": {
    "tags": []
   },
   "outputs": [
    {
     "data": {
      "text/plain": [
       "array([[1, 2],\n",
       "       [3, 4]])"
      ]
     },
     "execution_count": 2,
     "metadata": {},
     "output_type": "execute_result"
    }
   ],
   "source": [
    "A = np.array([[1, 2], [3, 4]])\n",
    "A"
   ]
  },
  {
   "cell_type": "code",
   "execution_count": 3,
   "id": "7dcc2cbb-06cf-4132-a175-fe724a32eab2",
   "metadata": {
    "tags": []
   },
   "outputs": [
    {
     "name": "stdout",
     "output_type": "stream",
     "text": [
      "(-0.3722813232690143+0j) (5.372281323269014+0j)\n"
     ]
    }
   ],
   "source": [
    "# 求解特征值和特征向量\n",
    "la, v = linalg.eig(A)\n",
    "l1, l2 = la\n",
    "# 特征值\n",
    "print(l1, l2)"
   ]
  },
  {
   "cell_type": "code",
   "execution_count": 4,
   "id": "d9312053-cd87-4081-8ff2-c5f722087571",
   "metadata": {
    "tags": []
   },
   "outputs": [
    {
     "name": "stdout",
     "output_type": "stream",
     "text": [
      "[-0.82456484  0.56576746]\n"
     ]
    }
   ],
   "source": [
    "# 第一个特征向量\n",
    "print(v[:, 0])"
   ]
  },
  {
   "cell_type": "code",
   "execution_count": 5,
   "id": "6d97ad9d-3846-4c33-b512-2f32039e1a2a",
   "metadata": {
    "tags": []
   },
   "outputs": [
    {
     "name": "stdout",
     "output_type": "stream",
     "text": [
      "[-0.41597356 -0.90937671]\n"
     ]
    }
   ],
   "source": [
    "# 第二个特征向量\n",
    "print(v[:, 1])"
   ]
  },
  {
   "cell_type": "code",
   "execution_count": 6,
   "id": "24e809e4-e71c-438f-a491-b1344e25686c",
   "metadata": {
    "tags": []
   },
   "outputs": [
    {
     "name": "stdout",
     "output_type": "stream",
     "text": [
      "[1. 1.]\n"
     ]
    }
   ],
   "source": [
    "print(np.sum(abs(v**2), axis=0))"
   ]
  },
  {
   "cell_type": "code",
   "execution_count": 7,
   "id": "28588ebc-af15-4c2c-88f1-8ef931c70249",
   "metadata": {
    "tags": []
   },
   "outputs": [
    {
     "name": "stdout",
     "output_type": "stream",
     "text": [
      "5.551115123125783e-17\n"
     ]
    }
   ],
   "source": [
    "v1 = np.array(v[:, 0]).T\n",
    "print(linalg.norm(A.dot(v1) - l1*v1))"
   ]
  }
 ],
 "metadata": {
  "kernelspec": {
   "display_name": "Python 3 (ipykernel)",
   "language": "python",
   "name": "python3"
  },
  "language_info": {
   "codemirror_mode": {
    "name": "ipython",
    "version": 3
   },
   "file_extension": ".py",
   "mimetype": "text/x-python",
   "name": "python",
   "nbconvert_exporter": "python",
   "pygments_lexer": "ipython3",
   "version": "3.10.10"
  }
 },
 "nbformat": 4,
 "nbformat_minor": 5
}
