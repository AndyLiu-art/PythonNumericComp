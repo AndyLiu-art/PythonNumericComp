{
 "cells": [
  {
   "cell_type": "code",
   "execution_count": null,
   "id": "c0de79ed-505b-4593-aea9-13a9dfd2a11b",
   "metadata": {},
   "outputs": [],
   "source": []
  }
 ],
 "metadata": {
  "kernelspec": {
   "display_name": "Python 3 (ipykernel)",
   "language": "python",
   "name": "python3"
  },
  "language_info": {
   "name": ""
  }
 },
 "nbformat": 4,
 "nbformat_minor": 5
}
