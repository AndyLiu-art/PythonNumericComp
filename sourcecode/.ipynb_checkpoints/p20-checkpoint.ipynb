{
 "cells": [
  {
   "cell_type": "code",
   "execution_count": null,
   "id": "30e86d80-8ea3-481d-8c99-ebe5a01bfaa3",
   "metadata": {},
   "outputs": [],
   "source": []
  },
  {
   "cell_type": "markdown",
   "id": "978096db-c6db-43f0-887b-91974b905ed8",
   "metadata": {},
   "source": [
    "### 求线性方程组"
   ]
  },
  {
   "cell_type": "code",
   "execution_count": 1,
   "id": "2045c63b-d0c6-4a93-b525-5da659e87d09",
   "metadata": {
    "tags": []
   },
   "outputs": [],
   "source": [
    "import numpy as np\n",
    "from scipy import linalg"
   ]
  }
 ],
 "metadata": {
  "kernelspec": {
   "display_name": "Python 3 (ipykernel)",
   "language": "python",
   "name": "python3"
  },
  "language_info": {
   "codemirror_mode": {
    "name": "ipython",
    "version": 3
   },
   "file_extension": ".py",
   "mimetype": "text/x-python",
   "name": "python",
   "nbconvert_exporter": "python",
   "pygments_lexer": "ipython3",
   "version": "3.10.10"
  }
 },
 "nbformat": 4,
 "nbformat_minor": 5
}
