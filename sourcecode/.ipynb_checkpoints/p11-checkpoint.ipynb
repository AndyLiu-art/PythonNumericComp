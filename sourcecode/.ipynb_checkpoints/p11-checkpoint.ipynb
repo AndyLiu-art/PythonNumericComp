{
 "cells": [
  {
   "cell_type": "markdown",
   "id": "77438836-7339-4c6c-a249-a2178d1bfbc9",
   "metadata": {},
   "source": [
    "### 线性规划"
   ]
  },
  {
   "cell_type": "markdown",
   "id": "81566f48-6e62-4c6c-838e-9804a134b983",
   "metadata": {},
   "source": [
    "线性规划的数学表达如下\n",
    "\n",
    "$$\n",
    "\\min\\limits_{x}c^Tx\\\\\n",
    "\\text{subject to:}\\\\\n",
    "A_{ub}x\\le b_{ub}\\\\\n",
    "A_{eq}x\\le b_{eq}\\\\\n",
    "l \\le x\\le u\n",
    "$$"
   ]
  },
  {
   "cell_type": "markdown",
   "id": "e0c42bf1-defa-44aa-8e2c-8317973726b3",
   "metadata": {},
   "source": [
    "下面求解一个实际例子\n",
    "$$\n",
    "\\begin{aligned}\n",
    "\\max\\limits_{x_1,x_2,x_3,x_4}29x_1+45x_2\\\\\n",
    "x_1-x_2-3x_3\\le 5\\\\\n",
    "2x_1-3x_2-7x_3+3x_4\\ge 10\\\\\n",
    "2x_1+8x_2+x_3=60\\\\\n",
    "4x_1+4x_2+x_4=60\\\\\n",
    "0\\le x_1\\\\\n",
    "0\\le x_2\\le 5\\\\\n",
    "x_3\\le 0.5\\\\\n",
    "-3\\le x_4\n",
    "\\end{aligned}\n",
    "$$"
   ]
  },
  {
   "cell_type": "code",
   "execution_count": 1,
   "id": "c97b3696-a8b3-474a-b182-e8524ffa29d3",
   "metadata": {
    "tags": []
   },
   "outputs": [
    {
     "name": "stdout",
     "output_type": "stream",
     "text": [
      "       message: The problem is infeasible. (HiGHS Status 8: model_status is Infeasible; primal_status is At lower/fixed bound)\n",
      "       success: False\n",
      "        status: 2\n",
      "           fun: None\n",
      "             x: None\n",
      "           nit: 3\n",
      "         lower:  residual: None\n",
      "                marginals: None\n",
      "         upper:  residual: None\n",
      "                marginals: None\n",
      "         eqlin:  residual: None\n",
      "                marginals: None\n",
      "       ineqlin:  residual: None\n",
      "                marginals: None\n"
     ]
    }
   ],
   "source": [
    "import numpy as np\n",
    "from scipy.optimize import linprog\n",
    "# 价值系数，最大值需要将c的系数变号\n",
    "c = np.array([-29.0, -45.0, 0.0, 0.0])\n",
    "A_ub = np.array(\n",
    "    [\n",
    "        [1.0, -1.0, -3.0, 0.0],\n",
    "        [-2.0, 3.0, 7.0, -3.0]\n",
    "    ]\n",
    ")\n",
    "b_ub = np.array([5.0, -10.0])\n",
    "A_eq = np.array(\n",
    "    [\n",
    "        [2.0, 8.0, 1.0, 0.0],\n",
    "        [4.0, 4.0, 0.0, 1.0]\n",
    "    ]\n",
    ")\n",
    "b_eq = np.array([60.0, 60.0])\n",
    "# 变量范围\n",
    "x0_bounds = (0, None)\n",
    "x1_bounds = (0, 5.0)\n",
    "x2_bounds = (-np.inf, 0.5)  # +/- np.inf can be used instead of None\n",
    "x3_bounds = (-3.0, None)\n",
    "# 构造变量界\n",
    "bounds = [x0_bounds, x1_bounds, x2_bounds, x3_bounds]\n",
    "# 线性规划\n",
    "result = linprog(\n",
    "    c, \n",
    "    A_ub=A_ub, \n",
    "    b_ub=b_ub, \n",
    "    A_eq=A_eq, \n",
    "    b_eq=b_eq, \n",
    "    bounds=bounds\n",
    ")\n",
    "print(result)"
   ]
  },
  {
   "cell_type": "markdown",
   "id": "5de84a8d-6fc0-4fa7-a129-66f323d7454e",
   "metadata": {},
   "source": [
    "这个线性规划无最优解，改变一下条件"
   ]
  },
  {
   "cell_type": "code",
   "execution_count": 2,
   "id": "ea390c0e-61b3-4dac-8fed-cf0961d59a01",
   "metadata": {
    "tags": []
   },
   "outputs": [
    {
     "name": "stdout",
     "output_type": "stream",
     "text": [
      "        message: Optimization terminated successfully. (HiGHS Status 7: Optimal)\n",
      "        success: True\n",
      "         status: 0\n",
      "            fun: -505.974358974359\n",
      "              x: [ 9.410e+00  5.179e+00 -2.564e-01  1.641e+00]\n",
      "            nit: 3\n",
      "          lower:  residual: [ 9.410e+00  5.179e+00        inf  4.641e+00]\n",
      "                 marginals: [ 0.000e+00  0.000e+00  0.000e+00  0.000e+00]\n",
      "          upper:  residual: [       inf  8.205e-01  7.564e-01        inf]\n",
      "                 marginals: [ 0.000e+00  0.000e+00  0.000e+00  0.000e+00]\n",
      "          eqlin:  residual: [ 0.000e+00  0.000e+00]\n",
      "                 marginals: [-2.887e+00 -5.415e+00]\n",
      "        ineqlin:  residual: [ 0.000e+00  0.000e+00]\n",
      "                 marginals: [-5.174e+00 -1.805e+00]\n",
      " mip_node_count: 0\n",
      " mip_dual_bound: 0.0\n",
      "        mip_gap: 0.0\n"
     ]
    }
   ],
   "source": [
    "x1_bounds = (0, 6)\n",
    "bounds = [x0_bounds, x1_bounds, x2_bounds, x3_bounds]\n",
    "result = linprog(c, A_ub=A_ub, b_ub=b_ub, A_eq=A_eq, b_eq=b_eq, bounds=bounds)\n",
    "print(result)"
   ]
  },
  {
   "cell_type": "code",
   "execution_count": 6,
   "id": "73129878-32f3-4da2-8913-dfa5807109b2",
   "metadata": {
    "tags": []
   },
   "outputs": [
    {
     "name": "stdout",
     "output_type": "stream",
     "text": [
      "[ 9.41025641  5.17948718 -0.25641026  1.64102564]\n",
      "-505.974358974359\n"
     ]
    }
   ],
   "source": [
    "# 最优点\n",
    "print(result.x)\n",
    "# 最优值\n",
    "print(result.fun)"
   ]
  },
  {
   "cell_type": "code",
   "execution_count": null,
   "id": "a88b4063-9c58-4e55-9bc5-0bcc5e77e1c8",
   "metadata": {},
   "outputs": [],
   "source": []
  }
 ],
 "metadata": {
  "kernelspec": {
   "display_name": "Python 3 (ipykernel)",
   "language": "python",
   "name": "python3"
  },
  "language_info": {
   "codemirror_mode": {
    "name": "ipython",
    "version": 3
   },
   "file_extension": ".py",
   "mimetype": "text/x-python",
   "name": "python",
   "nbconvert_exporter": "python",
   "pygments_lexer": "ipython3",
   "version": "3.10.10"
  }
 },
 "nbformat": 4,
 "nbformat_minor": 5
}
