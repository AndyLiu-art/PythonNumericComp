{
 "cells": [
  {
   "cell_type": "code",
   "execution_count": null,
   "id": "f9048f78-45b2-4ff6-bc6c-25186f758650",
   "metadata": {},
   "outputs": [],
   "source": []
  }
 ],
 "metadata": {
  "kernelspec": {
   "display_name": "Python 3 (ipykernel)",
   "language": "python",
   "name": "python3"
  },
  "language_info": {
   "name": ""
  }
 },
 "nbformat": 4,
 "nbformat_minor": 5
}
