{
 "cells": [
  {
   "cell_type": "markdown",
   "id": "b81bc2d7-3c2b-44a1-aca9-bd5900811cad",
   "metadata": {},
   "source": [
    "### 多元函数无约束的最优化问题"
   ]
  },
  {
   "cell_type": "code",
   "execution_count": 1,
   "id": "640f9a16-6445-4abe-af6c-cb7d526aac60",
   "metadata": {
    "tags": []
   },
   "outputs": [],
   "source": [
    "# 导入基础计算库\n",
    "import numpy as np\n",
    "# 导入最优化库\n",
    "from scipy.optimize import minimize"
   ]
  },
  {
   "cell_type": "code",
   "execution_count": 2,
   "id": "afec5eb2-d091-48a9-9ff7-0daf19fb39a2",
   "metadata": {
    "tags": []
   },
   "outputs": [],
   "source": [
    "def rosen(x):\n",
    "    \"\"\"The Rosenbrock function\"\"\"\n",
    "    return sum(100.0*(x[1:]-x[:-1]**2.0)**2.0 + (1-x[:-1])**2.0)"
   ]
  },
  {
   "cell_type": "code",
   "execution_count": 3,
   "id": "59851b77-f681-4948-891f-7f019da95961",
   "metadata": {
    "tags": []
   },
   "outputs": [
    {
     "name": "stdout",
     "output_type": "stream",
     "text": [
      "Optimization terminated successfully.\n",
      "         Current function value: 0.000000\n",
      "         Iterations: 339\n",
      "         Function evaluations: 571\n",
      "       message: Optimization terminated successfully.\n",
      "       success: True\n",
      "        status: 0\n",
      "           fun: 4.861153433422115e-17\n",
      "             x: [ 1.000e+00  1.000e+00  1.000e+00  1.000e+00  1.000e+00]\n",
      "           nit: 339\n",
      "          nfev: 571\n",
      " final_simplex: (array([[ 1.000e+00,  1.000e+00, ...,  1.000e+00,\n",
      "                         1.000e+00],\n",
      "                       [ 1.000e+00,  1.000e+00, ...,  1.000e+00,\n",
      "                         1.000e+00],\n",
      "                       ...,\n",
      "                       [ 1.000e+00,  1.000e+00, ...,  1.000e+00,\n",
      "                         1.000e+00],\n",
      "                       [ 1.000e+00,  1.000e+00, ...,  1.000e+00,\n",
      "                         1.000e+00]]), array([ 4.861e-17,  7.652e-17,  8.114e-17,  8.633e-17,\n",
      "                        8.641e-17,  2.179e-16]))\n"
     ]
    }
   ],
   "source": [
    "# 初始值\n",
    "x0 = np.array([1.3, 0.7, 0.8, 1.9, 1.2])\n",
    "res = minimize(\n",
    "    rosen, x0, method=\"nelder-mead\",\n",
    "    options={\"xatol\": 1e-8, \"disp\": True}\n",
    ")\n",
    "print(res)"
   ]
  },
  {
   "cell_type": "code",
   "execution_count": 4,
   "id": "f479d0e4-85da-4215-bf4d-3ec127c55ef8",
   "metadata": {
    "tags": []
   },
   "outputs": [
    {
     "name": "stdout",
     "output_type": "stream",
     "text": [
      "[1. 1. 1. 1. 1.]\n"
     ]
    }
   ],
   "source": [
    "# 最小值点\n",
    "print(res.x)"
   ]
  }
 ],
 "metadata": {
  "kernelspec": {
   "display_name": "Python 3 (ipykernel)",
   "language": "python",
   "name": "python3"
  },
  "language_info": {
   "codemirror_mode": {
    "name": "ipython",
    "version": 3
   },
   "file_extension": ".py",
   "mimetype": "text/x-python",
   "name": "python",
   "nbconvert_exporter": "python",
   "pygments_lexer": "ipython3",
   "version": "3.10.10"
  }
 },
 "nbformat": 4,
 "nbformat_minor": 5
}
