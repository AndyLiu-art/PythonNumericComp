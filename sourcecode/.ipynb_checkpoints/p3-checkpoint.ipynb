{
 "cells": [
  {
   "cell_type": "markdown",
   "id": "0cab0c1e-9492-496f-b028-620ca3a046c9",
   "metadata": {},
   "source": [
    "### 二元重积分"
   ]
  },
  {
   "cell_type": "code",
   "execution_count": 1,
   "id": "ddbc1d7b-2da5-44cb-ae7d-226724c0d53f",
   "metadata": {
    "tags": []
   },
   "outputs": [],
   "source": [
    "# 导入积分\n",
    "from scipy.integrate import dblquad\n",
    "# 导入基础计算库\n",
    "import numpy as np\n",
    "# 二重积分\n",
    "def I(n):\n",
    "    return dblquad(\n",
    "        lambda t, x: np.exp(-x*t)/t**n, \n",
    "        0, \n",
    "        np.inf, \n",
    "        lambda x: 1, \n",
    "        lambda x: np.inf\n",
    "    )"
   ]
  },
  {
   "cell_type": "code",
   "execution_count": 2,
   "id": "f44f023b-7564-4964-87c4-86582fe0fa10",
   "metadata": {
    "tags": []
   },
   "outputs": [
    {
     "name": "stdout",
     "output_type": "stream",
     "text": [
      "(0.2500000000043577, 1.298303346936809e-08)\n"
     ]
    }
   ],
   "source": [
    "print(I(4))"
   ]
  },
  {
   "cell_type": "code",
   "execution_count": 3,
   "id": "cb16449f-fc00-4f24-be72-0cd5c5238b90",
   "metadata": {
    "tags": []
   },
   "outputs": [
    {
     "name": "stdout",
     "output_type": "stream",
     "text": [
      "(0.33333333325010883, 1.3888461883425516e-08)\n"
     ]
    }
   ],
   "source": [
    "print(I(3))"
   ]
  },
  {
   "cell_type": "code",
   "execution_count": 4,
   "id": "725931ef-5a68-4d82-aba4-6798ed807578",
   "metadata": {
    "tags": []
   },
   "outputs": [
    {
     "name": "stdout",
     "output_type": "stream",
     "text": [
      "(0.4999999999985751, 1.3894083651858995e-08)\n"
     ]
    }
   ],
   "source": [
    "print(I(2))"
   ]
  },
  {
   "cell_type": "code",
   "execution_count": 5,
   "id": "32cc5daa-a597-4e2a-b4da-44e4f5d5ad27",
   "metadata": {
    "tags": []
   },
   "outputs": [
    {
     "data": {
      "text/plain": [
       "(0.010416666666666668, 4.101620128472366e-16)"
      ]
     },
     "execution_count": 5,
     "metadata": {},
     "output_type": "execute_result"
    }
   ],
   "source": [
    "area = dblquad(\n",
    "    lambda x, y: x*y, \n",
    "    0, \n",
    "    0.5, \n",
    "    lambda x: 0, \n",
    "    lambda x: 1-2*x\n",
    ")\n",
    "area"
   ]
  }
 ],
 "metadata": {
  "kernelspec": {
   "display_name": "Python 3 (ipykernel)",
   "language": "python",
   "name": "python3"
  },
  "language_info": {
   "codemirror_mode": {
    "name": "ipython",
    "version": 3
   },
   "file_extension": ".py",
   "mimetype": "text/x-python",
   "name": "python",
   "nbconvert_exporter": "python",
   "pygments_lexer": "ipython3",
   "version": "3.10.10"
  }
 },
 "nbformat": 4,
 "nbformat_minor": 5
}
