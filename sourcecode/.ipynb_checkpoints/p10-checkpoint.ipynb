{
 "cells": [
  {
   "cell_type": "code",
   "execution_count": null,
   "id": "4a5cb0c8-8fda-4e22-b322-769635b3e13a",
   "metadata": {},
   "outputs": [],
   "source": []
  }
 ],
 "metadata": {
  "kernelspec": {
   "display_name": "Python 3 (ipykernel)",
   "language": "python",
   "name": "python3"
  },
  "language_info": {
   "name": ""
  }
 },
 "nbformat": 4,
 "nbformat_minor": 5
}
