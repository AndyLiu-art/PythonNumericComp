{
 "cells": [
  {
   "cell_type": "markdown",
   "id": "97463d83-182d-483d-a3d5-a530484d06f6",
   "metadata": {},
   "source": [
    "### 一元定积分"
   ]
  },
  {
   "cell_type": "code",
   "execution_count": 1,
   "id": "ebe9fe93-7d61-465d-8dfb-31e465f77aeb",
   "metadata": {
    "tags": []
   },
   "outputs": [],
   "source": [
    "# 导入积分模块\n",
    "import scipy.integrate as integrate\n",
    "# 导入基础计算库\n",
    "import numpy as np"
   ]
  },
  {
   "cell_type": "code",
   "execution_count": 2,
   "id": "52e2d25c-a217-4621-a8ed-6fe29d8fb5b9",
   "metadata": {
    "tags": []
   },
   "outputs": [
    {
     "data": {
      "text/plain": [
       "(61.960795799430784, 6.912907000856692e-13)"
      ]
     },
     "execution_count": 2,
     "metadata": {},
     "output_type": "execute_result"
    }
   ],
   "source": [
    "result = integrate.quad(lambda x: np.sin(x)+3*x**2-3*x, 0, 4.5)\n",
    "result"
   ]
  }
 ],
 "metadata": {
  "kernelspec": {
   "display_name": "Python 3 (ipykernel)",
   "language": "python",
   "name": "python3"
  },
  "language_info": {
   "codemirror_mode": {
    "name": "ipython",
    "version": 3
   },
   "file_extension": ".py",
   "mimetype": "text/x-python",
   "name": "python",
   "nbconvert_exporter": "python",
   "pygments_lexer": "ipython3",
   "version": "3.10.10"
  }
 },
 "nbformat": 4,
 "nbformat_minor": 5
}
