{
 "cells": [
  {
   "cell_type": "markdown",
   "id": "b81bc2d7-3c2b-44a1-aca9-bd5900811cad",
   "metadata": {},
   "source": [
    "### 多元函数无约束的最优化问题"
   ]
  },
  {
   "cell_type": "code",
   "execution_count": 1,
   "id": "640f9a16-6445-4abe-af6c-cb7d526aac60",
   "metadata": {
    "tags": []
   },
   "outputs": [],
   "source": [
    "# 导入基础计算库\n",
    "import numpy as np\n",
    "# 导入最优化库\n",
    "from scipy.optimize import minimize"
   ]
  },
  {
   "cell_type": "code",
   "execution_count": 2,
   "id": "afec5eb2-d091-48a9-9ff7-0daf19fb39a2",
   "metadata": {
    "tags": []
   },
   "outputs": [],
   "source": [
    "def rosen(x):\n",
    "    \"\"\"The Rosenbrock function\"\"\"\n",
    "    return sum(100.0*(x[1:]-x[:-1]**2.0)**2.0 + (1-x[:-1])**2.0)"
   ]
  },
  {
   "cell_type": "code",
   "execution_count": 3,
   "id": "59851b77-f681-4948-891f-7f019da95961",
   "metadata": {
    "tags": []
   },
   "outputs": [
    {
     "name": "stdout",
     "output_type": "stream",
     "text": [
      "Optimization terminated successfully.\n",
      "         Current function value: 0.000000\n",
      "         Iterations: 339\n",
      "         Function evaluations: 571\n",
      "       message: Optimization terminated successfully.\n",
      "       success: True\n",
      "        status: 0\n",
      "           fun: 4.861153433422115e-17\n",
      "             x: [ 1.000e+00  1.000e+00  1.000e+00  1.000e+00  1.000e+00]\n",
      "           nit: 339\n",
      "          nfev: 571\n",
      " final_simplex: (array([[ 1.000e+00,  1.000e+00, ...,  1.000e+00,\n",
      "                         1.000e+00],\n",
      "                       [ 1.000e+00,  1.000e+00, ...,  1.000e+00,\n",
      "                         1.000e+00],\n",
      "                       ...,\n",
      "                       [ 1.000e+00,  1.000e+00, ...,  1.000e+00,\n",
      "                         1.000e+00],\n",
      "                       [ 1.000e+00,  1.000e+00, ...,  1.000e+00,\n",
      "                         1.000e+00]]), array([ 4.861e-17,  7.652e-17,  8.114e-17,  8.633e-17,\n",
      "                        8.641e-17,  2.179e-16]))\n"
     ]
    }
   ],
   "source": [
    "# 初始值\n",
    "x0 = np.array([1.3, 0.7, 0.8, 1.9, 1.2])\n",
    "res = minimize(\n",
    "    rosen, x0, method=\"nelder-mead\",\n",
    "    options={\"xatol\": 1e-8, \"disp\": True}\n",
    ")\n",
    "print(res)"
   ]
  },
  {
   "cell_type": "code",
   "execution_count": 4,
   "id": "f479d0e4-85da-4215-bf4d-3ec127c55ef8",
   "metadata": {
    "tags": []
   },
   "outputs": [
    {
     "name": "stdout",
     "output_type": "stream",
     "text": [
      "[1. 1. 1. 1. 1.]\n"
     ]
    }
   ],
   "source": [
    "# 最小值点\n",
    "print(res.x)"
   ]
  },
  {
   "cell_type": "code",
   "execution_count": 5,
   "id": "97c752de-aca2-47ce-958c-3d015134cf51",
   "metadata": {
    "tags": []
   },
   "outputs": [],
   "source": [
    "# 目标函数的梯度\n",
    "def rosen_der(x):\n",
    "    xm = x[1:-1]\n",
    "    xm_m1 = x[:-2]\n",
    "    xm_p1 = x[2:]\n",
    "    der = np.zeros_like(x)\n",
    "    der[1:-1] = 200*(xm-xm_m1**2) - 400*(xm_p1 - xm**2)*xm - 2*(1-xm)\n",
    "    der[0] = -400*x[0]*(x[1]-x[0]**2) - 2*(1-x[0])\n",
    "    der[-1] = 200*(x[-1]-x[-2]**2)\n",
    "    return der"
   ]
  },
  {
   "cell_type": "code",
   "execution_count": 6,
   "id": "b4b78f94-dcab-4225-8ad0-7dc5e77b2574",
   "metadata": {
    "tags": []
   },
   "outputs": [
    {
     "name": "stdout",
     "output_type": "stream",
     "text": [
      "Optimization terminated successfully.\n",
      "         Current function value: 0.000000\n",
      "         Iterations: 25\n",
      "         Function evaluations: 30\n",
      "         Gradient evaluations: 30\n",
      "  message: Optimization terminated successfully.\n",
      "  success: True\n",
      "   status: 0\n",
      "      fun: 4.0130879949972905e-13\n",
      "        x: [ 1.000e+00  1.000e+00  1.000e+00  1.000e+00  1.000e+00]\n",
      "      nit: 25\n",
      "      jac: [-5.690e-06 -2.733e-06 -2.545e-06 -7.735e-06  5.781e-06]\n",
      " hess_inv: [[ 7.588e-03  1.244e-02 ...  4.615e-02  9.222e-02]\n",
      "            [ 1.244e-02  2.482e-02 ...  9.299e-02  1.857e-01]\n",
      "            ...\n",
      "            [ 4.615e-02  9.299e-02 ...  3.738e-01  7.462e-01]\n",
      "            [ 9.222e-02  1.857e-01 ...  7.462e-01  1.494e+00]]\n",
      "     nfev: 30\n",
      "     njev: 30\n"
     ]
    }
   ],
   "source": [
    "res = minimize(\n",
    "    rosen, x0, method=\"BFGS\", jac=rosen_der,\n",
    "    options={\"disp\": True}\n",
    ")\n",
    "print(res)"
   ]
  },
  {
   "cell_type": "code",
   "execution_count": 7,
   "id": "de810c83-d940-445f-846a-946d9ae64079",
   "metadata": {
    "tags": []
   },
   "outputs": [
    {
     "name": "stdout",
     "output_type": "stream",
     "text": [
      "[1.00000004 1.0000001  1.00000021 1.00000044 1.00000092]\n"
     ]
    }
   ],
   "source": [
    "# 最小值点\n",
    "print(res.x)"
   ]
  },
  {
   "cell_type": "code",
   "execution_count": 8,
   "id": "8991e17d-86d5-4cb9-a499-4213099998c9",
   "metadata": {
    "tags": []
   },
   "outputs": [],
   "source": [
    "# 目标函数的黑塞矩阵\n",
    "def rosen_hess(x):\n",
    "    x = np.asarray(x)\n",
    "    H = np.diag(-400*x[:-1],1) - np.diag(400*x[:-1],-1)\n",
    "    diagonal = np.zeros_like(x)\n",
    "    diagonal[0] = 1200*x[0]**2-400*x[1]+2\n",
    "    diagonal[-1] = 200\n",
    "    diagonal[1:-1] = 202 + 1200*x[1:-1]**2 - 400*x[2:]\n",
    "    H = H + np.diag(diagonal)\n",
    "    return H"
   ]
  },
  {
   "cell_type": "code",
   "execution_count": 9,
   "id": "9fc80462-4e1d-402c-87af-50e9e55535e3",
   "metadata": {
    "tags": []
   },
   "outputs": [
    {
     "name": "stdout",
     "output_type": "stream",
     "text": [
      "Optimization terminated successfully.\n",
      "         Current function value: 0.000000\n",
      "         Iterations: 24\n",
      "         Function evaluations: 33\n",
      "         Gradient evaluations: 33\n",
      "         Hessian evaluations: 24\n",
      " message: Optimization terminated successfully.\n",
      " success: True\n",
      "  status: 0\n",
      "     fun: 3.5306674342205174e-17\n",
      "       x: [ 1.000e+00  1.000e+00  1.000e+00  1.000e+00  1.000e+00]\n",
      "     nit: 24\n",
      "     jac: [ 2.687e-08  9.267e-08  3.701e-07  1.485e-06 -8.526e-07]\n",
      "    nfev: 33\n",
      "    njev: 33\n",
      "    nhev: 24\n"
     ]
    }
   ],
   "source": [
    "res = minimize(\n",
    "    rosen, x0, method=\"Newton-CG\",\n",
    "    jac=rosen_der, hess=rosen_hess,\n",
    "    options={\"xtol\": 1e-8, \"disp\": True}\n",
    ")\n",
    "print(res)"
   ]
  },
  {
   "cell_type": "code",
   "execution_count": 10,
   "id": "ab822b94-5425-4db3-9138-f35dae9ff7d6",
   "metadata": {
    "tags": []
   },
   "outputs": [
    {
     "name": "stdout",
     "output_type": "stream",
     "text": [
      "[1.         1.         1.         0.99999999 0.99999999]\n"
     ]
    }
   ],
   "source": [
    "# 最小值点\n",
    "print(res.x)"
   ]
  },
  {
   "cell_type": "code",
   "execution_count": 11,
   "id": "5cf1a7ce-3ef6-4d2c-8171-625c78484b54",
   "metadata": {
    "tags": []
   },
   "outputs": [
    {
     "name": "stdout",
     "output_type": "stream",
     "text": [
      "Optimization terminated successfully.\n",
      "         Current function value: 0.000000\n",
      "         Iterations: 20\n",
      "         Function evaluations: 21\n",
      "         Gradient evaluations: 20\n",
      "         Hessian evaluations: 19\n",
      " message: Optimization terminated successfully.\n",
      " success: True\n",
      "  status: 0\n",
      "     fun: 1.232595164407831e-30\n",
      "       x: [ 1.000e+00  1.000e+00  1.000e+00  1.000e+00  1.000e+00]\n",
      "     nit: 20\n",
      "     jac: [-0.000e+00  0.000e+00  0.000e+00  4.441e-14 -2.220e-14]\n",
      "    nfev: 21\n",
      "    njev: 20\n",
      "    nhev: 19\n",
      "    hess: [[ 8.020e+02 -4.000e+02 ...  0.000e+00  0.000e+00]\n",
      "           [-4.000e+02  1.002e+03 ...  0.000e+00  0.000e+00]\n",
      "           ...\n",
      "           [ 0.000e+00  0.000e+00 ...  1.002e+03 -4.000e+02]\n",
      "           [ 0.000e+00  0.000e+00 ... -4.000e+02  2.000e+02]]\n"
     ]
    }
   ],
   "source": [
    "res = minimize(\n",
    "    rosen, x0, method=\"trust-ncg\",\n",
    "    jac=rosen_der, hess=rosen_hess,\n",
    "    options={\"gtol\": 1e-8, \"disp\": True}\n",
    ")\n",
    "print(res)"
   ]
  },
  {
   "cell_type": "code",
   "execution_count": 12,
   "id": "3eb5473a-1101-425d-aa91-213646ba4194",
   "metadata": {
    "tags": []
   },
   "outputs": [
    {
     "name": "stdout",
     "output_type": "stream",
     "text": [
      "[1. 1. 1. 1. 1.]\n"
     ]
    }
   ],
   "source": [
    "# 最小值点\n",
    "print(res.x)"
   ]
  },
  {
   "cell_type": "code",
   "execution_count": 13,
   "id": "b752c366-02a8-47c7-9dfe-68a60eff42a9",
   "metadata": {
    "tags": []
   },
   "outputs": [
    {
     "name": "stdout",
     "output_type": "stream",
     "text": [
      " iter inewton type    objective     âgââ_Mâ»Â¹      leftmost         Î»             Î³             Î´             Î±             Î²       \n",
      "     0     0  cg_i -6.273083e+02  4.029038e+02  0.000000e+00  0.000000e+00  2.246107e+03  4.021147e+03  2.486853e-04  3.217671e-02\n",
      "\n",
      " iter inewton type    objective     âgââ_Mâ»Â¹      leftmost         Î»             Î³             Î´             Î±             Î²       \n",
      "     0     0  cg_i -9.528585e+01  1.478412e+02  0.000000e+00  0.000000e+00  6.001708e+02  1.890129e+03  5.290645e-04  6.067939e-02\n",
      "\n",
      " iter inewton type    objective     âgââ_Mâ»Â¹      leftmost         Î»             Î³             Î´             Î±             Î²       \n",
      "     0     0  cg_i -8.662599e+00  5.824611e+01  0.000000e+00  0.000000e+00  1.285783e+02  9.542387e+02  1.047956e-03  2.052100e-01\n",
      "\n",
      " iter inewton type    objective     âgââ_Mâ»Â¹      leftmost         Î»             Î³             Î´             Î±             Î²       \n",
      "     0     0  cg_i -1.798598e+00  3.481545e+01  0.000000e+00  0.000000e+00  5.168333e+01  7.425689e+02  1.346676e-03  4.537776e-01\n",
      "\n",
      "     1     0  cg_i -2.721261e+00  1.426076e+01  0.000000e+00  0.000000e+00  5.002168e+02  9.938183e+02  1.522401e-03  1.677804e-01\n",
      "\n",
      " iter inewton type    objective     âgââ_Mâ»Â¹      leftmost         Î»             Î³             Î´             Î±             Î²       \n",
      "     0     0  cg_i -7.242386e-02  4.575385e+00  0.000000e+00  0.000000e+00  1.400669e+01  1.354439e+03  7.383128e-04  1.067048e-01\n",
      "\n",
      " iter inewton type    objective     âgââ_Mâ»Â¹      leftmost         Î»             Î³             Î´             Î±             Î²       \n",
      "     0     0  cg_i -8.331939e-03  2.017934e+00  0.000000e+00  0.000000e+00  4.550681e+00  1.242730e+03  8.046802e-04  1.966351e-01\n",
      "\n",
      " iter inewton type    objective     âgââ_Mâ»Â¹      leftmost         Î»             Î³             Î´             Î±             Î²       \n",
      "     0     0  cg_i -1.639774e-03  1.039910e+00  0.000000e+00  0.000000e+00  2.017620e+00  1.241266e+03  8.056290e-04  2.656515e-01\n",
      "\n",
      "     1     0  cg_i -2.362748e-03  4.063620e-01  0.000000e+00  0.000000e+00  6.397659e+02  1.077635e+03  1.337094e-03  1.526986e-01\n",
      "\n",
      " iter inewton type    objective     âgââ_Mâ»Â¹      leftmost         Î»             Î³             Î´             Î±             Î²       \n",
      "     0     0  cg_i -1.218928e-04  2.280362e-01  0.000000e+00  0.000000e+00  4.066296e-01  6.782503e+02  1.474382e-03  3.144920e-01\n",
      "\n",
      "     1     0  cg_i -1.746236e-04  3.200387e-01  0.000000e+00  0.000000e+00  3.803600e+02  7.063791e+02  2.028090e-03  1.969687e+00\n",
      "\n",
      "     2     0  cg_i -3.519759e-04  3.984883e-01  0.000000e+00  0.000000e+00  6.920085e+02  1.259964e+03  3.463074e-03  1.550338e+00\n",
      "\n",
      "     3     0  cg_i -5.758296e-03  3.569591e+00  0.000000e+00  0.000000e+00  3.595435e+02  4.623626e+02  6.809270e-02  8.024274e+01\n",
      "\n",
      " TR Solving trust region problem, radius 2.500000e-01; starting on first irreducible block\n",
      " TR Coldstart. Seeking suitable initial Î»â, starting with 0\n",
      " TR Starting Newton iteration for Î»â with initial choice 0.000000e+00\n",
      " TR  iter        Î»            dÎ»       âhâ(Î»)â-radius\n",
      " TR      1  2.943145e-01  2.943145e-01  3.059076e-07\n",
      " TR      2  2.943152e-01  7.617834e-07 -1.912359e-14\n",
      "\n",
      " iter inewton type    objective     Î³áµ¢ââ|háµ¢|      leftmost         Î»             Î³             Î´       \n",
      "     4     2   hot -2.875301e-02  0.000000e+00  0.000000e+00  2.943152e-01  1.315535e+02  1.382362e+03\n",
      "\n",
      "Early exit as hotstart with early termination on\n",
      "\n",
      " iter inewton type    objective     âgââ_Mâ»Â¹      leftmost         Î»             Î³             Î´             Î±             Î²       \n",
      "     0     0  cg_i -7.518233e-03  1.522235e+00  0.000000e+00  0.000000e+00  4.090478e+00  1.112762e+03  8.986647e-04  1.384891e-01\n",
      "\n",
      " iter inewton type    objective     âgââ_Mâ»Â¹      leftmost         Î»             Î³             Î´             Î±             Î²       \n",
      "     0     0  cg_i -1.096841e-03  8.409536e-01  0.000000e+00  0.000000e+00  1.518407e+00  1.051001e+03  9.514742e-04  3.067379e-01\n",
      "\n",
      "     1     0  cg_i -1.570721e-03  3.392978e-01  0.000000e+00  0.000000e+00  5.820853e+02  1.068564e+03  1.340154e-03  1.627863e-01\n",
      "\n",
      " iter inewton type    objective     âgââ_Mâ»Â¹      leftmost         Î»             Î³             Î´             Î±             Î²       \n",
      "     0     0  cg_i -6.479100e-05  1.641071e-01  0.000000e+00  0.000000e+00  3.391135e-01  8.874534e+02  1.126820e-03  2.341879e-01\n",
      "\n",
      "     1     0  cg_i -8.150449e-05  1.044376e-01  0.000000e+00  0.000000e+00  4.294650e+02  1.013502e+03  1.241202e-03  4.050039e-01\n",
      "\n",
      " iter inewton type    objective     âgââ_Mâ»Â¹      leftmost         Î»             Î³             Î´             Î±             Î²       \n",
      "     0     0  cg_i -6.864955e-06  9.214155e-02  0.000000e+00  0.000000e+00  1.044215e-01  7.941673e+02  1.259181e-03  7.786304e-01\n",
      "\n",
      "     1     0  cg_i -1.991674e-05  1.301343e-01  0.000000e+00  0.000000e+00  7.007735e+02  9.436083e+02  3.074601e-03  1.994676e+00\n",
      "\n",
      "     2     0  cg_i -1.195321e-04  3.179941e-01  0.000000e+00  0.000000e+00  4.593539e+02  7.337610e+02  1.176448e-02  5.971103e+00\n",
      "\n",
      "     3     0  cg_i -4.188868e-04  7.535566e-01  0.000000e+00  0.000000e+00  2.077086e+02  6.764504e+02  5.920769e-03  5.615569e+00\n",
      "\n",
      " iter inewton type    objective     âgââ_Mâ»Â¹      leftmost         Î»             Î³             Î´             Î±             Î²       \n",
      "     0     0  cg_i -8.816451e-04  5.184366e-01  0.000000e+00  0.000000e+00  1.324450e+00  9.948272e+02  1.005200e-03  1.532216e-01\n",
      "\n",
      " iter inewton type    objective     âgââ_Mâ»Â¹      leftmost         Î»             Î³             Î´             Î±             Î²       \n",
      "     0     0  cg_i -1.332921e-04  2.868284e-01  0.000000e+00  0.000000e+00  5.178932e-01  1.006112e+03  9.939256e-04  3.067355e-01\n",
      "\n",
      "     1     0  cg_i -1.931659e-04  1.227712e-01  0.000000e+00  0.000000e+00  5.572219e+02  9.956424e+02  1.455536e-03  1.832097e-01\n",
      "\n",
      " iter inewton type    objective     âgââ_Mâ»Â¹      leftmost         Î»             Î³             Î´             Î±             Î²       \n",
      "     0     0  cg_i -7.494787e-06  5.036955e-02  0.000000e+00  0.000000e+00  1.227312e-01  1.004896e+03  9.951282e-04  1.684325e-01\n",
      "\n",
      "     1     0  cg_i -9.038951e-06  2.464230e-02  0.000000e+00  0.000000e+00  4.124145e+02  9.907665e+02  1.217272e-03  2.393460e-01\n",
      "\n",
      "     2     0  cg_i -9.419876e-06  1.237374e-02  0.000000e+00  0.000000e+00  4.019071e+02  9.936897e+02  1.254603e-03  2.521387e-01\n",
      "\n",
      " iter inewton type    objective     âgââ_Mâ»Â¹      leftmost         Î»             Î³             Î´             Î±             Î²       \n",
      "     0     0  cg_i -8.123315e-08  6.017427e-03  0.000000e+00  0.000000e+00  1.237352e-02  9.423732e+02  1.061151e-03  2.365023e-01\n",
      "\n",
      "     1     0  cg_i -1.141577e-07  5.764425e-03  0.000000e+00  0.000000e+00  4.582903e+02  7.727586e+02  1.818562e-03  9.176781e-01\n",
      "\n",
      "     2     0  cg_i -1.714596e-07  9.206608e-03  0.000000e+00  0.000000e+00  5.267653e+02  7.945608e+02  3.448951e-03  2.550864e+00\n",
      "\n",
      "     3     0  cg_i -3.626456e-07  1.409674e-02  0.000000e+00  0.000000e+00  4.630807e+02  9.612789e+02  4.511145e-03  2.344434e+00\n",
      "\n",
      " iter inewton type    objective     âgââ_Mâ»Â¹      leftmost         Î»             Î³             Î´             Î±             Î²       \n",
      "     0     0  cg_i -7.032046e-09  1.474521e-03  0.000000e+00  0.000000e+00  3.727647e-03  9.880023e+02  1.012143e-03  1.564705e-01\n",
      "\n",
      "     1     0  cg_i -8.304899e-09  6.906989e-04  0.000000e+00  0.000000e+00  3.908177e+02  1.008664e+03  1.170863e-03  2.194196e-01\n",
      "\n",
      "     2     0  cg_i -8.600911e-09  3.514945e-04  0.000000e+00  0.000000e+00  4.000658e+02  9.932200e+02  1.240972e-03  2.589760e-01\n",
      "\n",
      "     3     0  cg_i -8.677805e-09  2.907239e-05  0.000000e+00  0.000000e+00  4.100794e+02  1.012058e+03  1.244756e-03  6.841074e-03\n",
      "\n",
      " iter inewton type    objective     âgââ_Mâ»Â¹      leftmost         Î»             Î³             Î´             Î±             Î²       \n",
      "     0     0  cg_i -1.065816e-17  7.061929e-08  0.000000e+00  0.000000e+00  1.369755e-07  8.801844e+02  1.136126e-03  2.658036e-01\n",
      "\n",
      "     1     0  cg_i -1.488030e-17  6.089564e-08  0.000000e+00  0.000000e+00  4.537891e+02  8.245442e+02  1.693228e-03  7.435764e-01\n",
      "\n",
      "     2     0  cg_i -2.014909e-17  8.298704e-08  0.000000e+00  0.000000e+00  5.092692e+02  7.910571e+02  2.841638e-03  1.857155e+00\n",
      "\n",
      "     3     0  cg_i -3.327619e-17  1.245258e-07  0.000000e+00  0.000000e+00  4.795737e+02  9.158651e+02  3.812224e-03  2.251637e+00\n",
      "\n",
      "Optimization terminated successfully.\n",
      "         Current function value: 0.000000\n",
      "         Iterations: 19\n",
      "         Function evaluations: 20\n",
      "         Gradient evaluations: 20\n",
      "         Hessian evaluations: 18\n",
      " message: Optimization terminated successfully.\n",
      " success: True\n",
      "  status: 0\n",
      "     fun: 1.1618442019708214e-28\n",
      "       x: [ 1.000e+00  1.000e+00  1.000e+00  1.000e+00  1.000e+00]\n",
      "     nit: 19\n",
      "     jac: [ 4.396e-14  2.109e-14  6.417e-14  3.499e-13 -1.998e-13]\n",
      "    nfev: 20\n",
      "    njev: 20\n",
      "    nhev: 18\n",
      "    hess: [[ 8.020e+02 -4.000e+02 ...  0.000e+00  0.000e+00]\n",
      "           [-4.000e+02  1.002e+03 ...  0.000e+00  0.000e+00]\n",
      "           ...\n",
      "           [ 0.000e+00  0.000e+00 ...  1.002e+03 -4.000e+02]\n",
      "           [ 0.000e+00  0.000e+00 ... -4.000e+02  2.000e+02]]\n"
     ]
    }
   ],
   "source": [
    "res = minimize(\n",
    "    rosen, x0, method=\"trust-krylov\",\n",
    "    jac=rosen_der, hess=rosen_hess,\n",
    "    options={\"gtol\": 1e-8, \"disp\": True}\n",
    ")\n",
    "print(res)"
   ]
  },
  {
   "cell_type": "code",
   "execution_count": 14,
   "id": "621da1b6-d5f1-4fc7-b2fa-ed4661284ffc",
   "metadata": {
    "tags": []
   },
   "outputs": [
    {
     "name": "stdout",
     "output_type": "stream",
     "text": [
      "[1. 1. 1. 1. 1.]\n"
     ]
    }
   ],
   "source": [
    "# 最小值点\n",
    "print(res.x)"
   ]
  },
  {
   "cell_type": "code",
   "execution_count": 15,
   "id": "80a2d4b9-e86c-4f4a-90d0-0ea86af7ddd3",
   "metadata": {
    "tags": []
   },
   "outputs": [
    {
     "name": "stdout",
     "output_type": "stream",
     "text": [
      "Optimization terminated successfully.\n",
      "         Current function value: 0.000000\n",
      "         Iterations: 13\n",
      "         Function evaluations: 14\n",
      "         Gradient evaluations: 13\n",
      "         Hessian evaluations: 14\n",
      " message: Optimization terminated successfully.\n",
      " success: True\n",
      "  status: 0\n",
      "     fun: 1.534303144849083e-22\n",
      "       x: [ 1.000e+00  1.000e+00  1.000e+00  1.000e+00  1.000e+00]\n",
      "     nit: 13\n",
      "     jac: [ 7.503e-12  2.589e-11  1.048e-10  4.210e-10 -2.398e-10]\n",
      "    nfev: 14\n",
      "    njev: 13\n",
      "    nhev: 14\n",
      "    hess: [[ 8.020e+02 -4.000e+02 ...  0.000e+00  0.000e+00]\n",
      "           [-4.000e+02  1.002e+03 ...  0.000e+00  0.000e+00]\n",
      "           ...\n",
      "           [ 0.000e+00  0.000e+00 ...  1.002e+03 -4.000e+02]\n",
      "           [ 0.000e+00  0.000e+00 ... -4.000e+02  2.000e+02]]\n"
     ]
    }
   ],
   "source": [
    "res = minimize(\n",
    "    rosen, x0, method=\"trust-exact\",\n",
    "    jac=rosen_der, hess=rosen_hess,\n",
    "    options={\"gtol\": 1e-8, \"disp\": True}\n",
    ")\n",
    "print(res)"
   ]
  },
  {
   "cell_type": "code",
   "execution_count": 16,
   "id": "ba219487-f3ae-4bad-8842-395c7b15a970",
   "metadata": {
    "tags": []
   },
   "outputs": [
    {
     "name": "stdout",
     "output_type": "stream",
     "text": [
      "[1. 1. 1. 1. 1.]\n"
     ]
    }
   ],
   "source": [
    "# 最小值点\n",
    "print(res.x)"
   ]
  }
 ],
 "metadata": {
  "kernelspec": {
   "display_name": "Python 3 (ipykernel)",
   "language": "python",
   "name": "python3"
  },
  "language_info": {
   "codemirror_mode": {
    "name": "ipython",
    "version": 3
   },
   "file_extension": ".py",
   "mimetype": "text/x-python",
   "name": "python",
   "nbconvert_exporter": "python",
   "pygments_lexer": "ipython3",
   "version": "3.10.10"
  }
 },
 "nbformat": 4,
 "nbformat_minor": 5
}
