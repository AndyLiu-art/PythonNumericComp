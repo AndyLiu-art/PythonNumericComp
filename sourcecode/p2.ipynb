{
 "cells": [
  {
   "cell_type": "markdown",
   "id": "932db71d-f722-41ca-b715-6594dda28bbf",
   "metadata": {},
   "source": [
    "### 一元定积分，给定参数"
   ]
  },
  {
   "cell_type": "code",
   "execution_count": 1,
   "id": "4e87b9c1-5ce8-4552-9f2b-119e1a07abd1",
   "metadata": {
    "tags": []
   },
   "outputs": [],
   "source": [
    "# 导入积分模块\n",
    "import scipy.integrate as integrate\n",
    "# 导入基础计算库\n",
    "import numpy as np"
   ]
  },
  {
   "cell_type": "code",
   "execution_count": 2,
   "id": "a64ad5ef-5631-434f-a9e0-bf5ce904bb44",
   "metadata": {
    "tags": []
   },
   "outputs": [],
   "source": [
    "# 定义函数\n",
    "def integrand(x, a, b):\n",
    "    return a*x**2 + b\n",
    "\n",
    "a = 2\n",
    "b = 1"
   ]
  },
  {
   "cell_type": "code",
   "execution_count": 3,
   "id": "bfffbe49-d22a-42d6-8004-7b62550ae475",
   "metadata": {
    "tags": []
   },
   "outputs": [
    {
     "data": {
      "text/plain": [
       "(1.6666666666666667, 1.8503717077085944e-14)"
      ]
     },
     "execution_count": 3,
     "metadata": {},
     "output_type": "execute_result"
    }
   ],
   "source": [
    "I = integrate.quad(integrand, 0, 1, args=(a,b))\n",
    "I"
   ]
  }
 ],
 "metadata": {
  "kernelspec": {
   "display_name": "Python 3 (ipykernel)",
   "language": "python",
   "name": "python3"
  },
  "language_info": {
   "codemirror_mode": {
    "name": "ipython",
    "version": 3
   },
   "file_extension": ".py",
   "mimetype": "text/x-python",
   "name": "python",
   "nbconvert_exporter": "python",
   "pygments_lexer": "ipython3",
   "version": "3.10.10"
  }
 },
 "nbformat": 4,
 "nbformat_minor": 5
}
