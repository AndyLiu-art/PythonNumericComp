{
 "cells": [
  {
   "cell_type": "markdown",
   "id": "e57735c6-b2e0-47bc-91f6-2d9dfc1885f1",
   "metadata": {},
   "source": [
    "### 带约束的最小二乘优化问题"
   ]
  },
  {
   "cell_type": "markdown",
   "id": "14882d57-0089-4d66-afae-ea7f1e157582",
   "metadata": {},
   "source": [
    "这种问题在Python中计算的一般形式如下"
   ]
  },
  {
   "cell_type": "markdown",
   "id": "4855b4ca-9a03-497f-8d21-2a8c06c02201",
   "metadata": {},
   "source": [
    "$$\n",
    "\\min\\limits_{\\textbf{x}}\\dfrac{1}{2}\\sum^n_{i=1}\\rho(f_i(\\textbf{x})^2)\\\\\n",
    "\\text{subject to:}\\\\\n",
    "\\textbf{lb}\\le \\textbf{x}\\le \\textbf{ub}\n",
    "$$"
   ]
  },
  {
   "cell_type": "markdown",
   "id": "e45cdc30-7ecb-4cb6-a52a-9ae47b71613a",
   "metadata": {},
   "source": [
    "其中的$f_i(\\textbf{x})$表示残差函数，一般是$y_i-\\hat{y}_i$。"
   ]
  },
  {
   "cell_type": "markdown",
   "id": "6fd7bd80-e980-4c9d-b7f6-3004084d99a2",
   "metadata": {},
   "source": [
    "这里假设$f_i(\\textbf{x})$的形式如下\n",
    "\n",
    "$$\n",
    "f_i(\\textbf{x})=\\dfrac{x_0(u^2_i+u_ix_1)}{u^2_i+u_ix_2+x_3}-y_i,\\quad\\quad i=1,2,\\cdots,11\n",
    "$$"
   ]
  },
  {
   "cell_type": "markdown",
   "id": "29fa103d-7801-4a9e-9c2d-674e2c100cfa",
   "metadata": {},
   "source": [
    "这里的$x_1,x_2,x_3,x_0$是要求解的参数，其中的$u_i,y_i$是已知的数据。"
   ]
  },
  {
   "cell_type": "code",
   "execution_count": 1,
   "id": "092bde43-a5d6-4feb-b918-c0bc32916b99",
   "metadata": {
    "tags": []
   },
   "outputs": [],
   "source": [
    "import numpy as np\n",
    "from scipy.optimize import least_squares"
   ]
  },
  {
   "cell_type": "code",
   "execution_count": 2,
   "id": "ca368dbf-d283-497c-9a46-23735e42751c",
   "metadata": {
    "tags": []
   },
   "outputs": [],
   "source": [
    "# 定义模型\n",
    "def model(x, u):\n",
    "    return x[0] * (u ** 2 + x[1] * u) / (u ** 2 + x[2] * u + x[3])\n",
    "# 定义损失函数f_i(x)\n",
    "def fun(x, u, y):\n",
    "    return model(x, u) - y\n",
    "# 损失函数的雅可比矩阵\n",
    "def jac(x, u, y):\n",
    "    J = np.empty((u.size, x.size))\n",
    "    den = u ** 2 + x[2] * u + x[3]\n",
    "    num = u ** 2 + x[1] * u\n",
    "    J[:, 0] = num / den\n",
    "    J[:, 1] = x[0] * u / den\n",
    "    J[:, 2] = -x[0] * num * u / den ** 2\n",
    "    J[:, 3] = -x[0] * num / den ** 2\n",
    "    return J"
   ]
  },
  {
   "cell_type": "code",
   "execution_count": 3,
   "id": "08b06412-36c5-46b2-81d3-b8564f270d39",
   "metadata": {
    "tags": []
   },
   "outputs": [
    {
     "name": "stdout",
     "output_type": "stream",
     "text": [
      "`ftol` termination condition is satisfied.\n",
      "Function evaluations 131, initial cost 4.4383e+00, final cost 1.5375e-04, first-order optimality 4.52e-08.\n",
      "     message: `ftol` termination condition is satisfied.\n",
      "     success: True\n",
      "      status: 2\n",
      "         fun: [-1.307e-03 -1.876e-03  8.920e-03 -1.111e-02  8.352e-03\n",
      "               -1.737e-04  2.584e-05  1.263e-03 -3.524e-03  6.168e-04\n",
      "               -3.889e-03]\n",
      "           x: [ 1.928e-01  1.913e-01  1.231e-01  1.361e-01]\n",
      "        cost: 0.00015375280234150847\n",
      "         jac: [[ 1.008e+00  4.638e-02 -4.676e-02 -1.169e-02]\n",
      "               [ 1.000e+00  8.800e-02 -8.800e-02 -4.400e-02]\n",
      "               ...\n",
      "               [ 1.251e-01  9.180e-02 -1.148e-02 -1.608e-01]\n",
      "               [ 1.074e-01  8.160e-02 -8.766e-03 -1.403e-01]]\n",
      "        grad: [-4.526e-10 -1.445e-10  1.552e-09  8.542e-08]\n",
      "  optimality: 4.516919346939224e-08\n",
      " active_mask: [0 0 0 0]\n",
      "        nfev: 131\n",
      "        njev: 104\n"
     ]
    }
   ],
   "source": [
    "# 数据样本\n",
    "u = np.array(\n",
    "    [\n",
    "        4.0, 2.0, 1.0, 5.0e-1, 2.5e-1, 1.67e-1, 1.25e-1, \n",
    "        1.0e-1, 8.33e-2, 7.14e-2, 6.25e-2\n",
    "    ]\n",
    ")\n",
    "y = np.array(\n",
    "    [\n",
    "        1.957e-1, 1.947e-1, 1.735e-1, 1.6e-1, 8.44e-2, 6.27e-2,\n",
    "        4.56e-2, 3.42e-2, 3.23e-2, 2.35e-2, 2.46e-2\n",
    "    ]\n",
    ")\n",
    "# 初始值\n",
    "x0 = np.array([2.5, 3.9, 4.15, 3.9])\n",
    "res = least_squares(\n",
    "    fun, # 损失函数 f_i(x)\n",
    "    x0, # 初始值\n",
    "    jac=jac, # 雅可比矩阵\n",
    "    bounds=(0, 100), # 变量范围\n",
    "    args=(u, y), # fun中的参数\n",
    "    verbose=1\n",
    ")\n",
    "print(res)"
   ]
  },
  {
   "cell_type": "code",
   "execution_count": 4,
   "id": "83c0a2c1-4c6a-4bf6-8b0b-c2e51e09c3f0",
   "metadata": {
    "tags": []
   },
   "outputs": [
    {
     "name": "stdout",
     "output_type": "stream",
     "text": [
      "[0.192806   0.19130332 0.12306046 0.13607205]\n"
     ]
    }
   ],
   "source": [
    "# 最优点\n",
    "print(res.x)"
   ]
  }
 ],
 "metadata": {
  "kernelspec": {
   "display_name": "Python 3 (ipykernel)",
   "language": "python",
   "name": "python3"
  },
  "language_info": {
   "codemirror_mode": {
    "name": "ipython",
    "version": 3
   },
   "file_extension": ".py",
   "mimetype": "text/x-python",
   "name": "python",
   "nbconvert_exporter": "python",
   "pygments_lexer": "ipython3",
   "version": "3.10.10"
  }
 },
 "nbformat": 4,
 "nbformat_minor": 5
}
