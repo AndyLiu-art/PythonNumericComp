{
 "cells": [
  {
   "cell_type": "markdown",
   "id": "816c273c-672d-49f5-bf27-d398e0a9c13b",
   "metadata": {},
   "source": [
    "### 矩阵范数"
   ]
  },
  {
   "cell_type": "code",
   "execution_count": 1,
   "id": "01599972-4294-4a65-9bb9-49d3be5fce25",
   "metadata": {
    "tags": []
   },
   "outputs": [],
   "source": [
    "import numpy as np\n",
    "from scipy import linalg"
   ]
  },
  {
   "cell_type": "code",
   "execution_count": 2,
   "id": "d0f43092-c848-4b5d-9482-244bc1a047e2",
   "metadata": {
    "tags": []
   },
   "outputs": [
    {
     "data": {
      "text/plain": [
       "array([[1, 2],\n",
       "       [3, 4]])"
      ]
     },
     "execution_count": 2,
     "metadata": {},
     "output_type": "execute_result"
    }
   ],
   "source": [
    "A=np.array([[1,2],[3,4]])\n",
    "A"
   ]
  },
  {
   "cell_type": "code",
   "execution_count": 3,
   "id": "021c7527-2205-4e26-bf49-b921db9eed6a",
   "metadata": {
    "tags": []
   },
   "outputs": [
    {
     "data": {
      "text/plain": [
       "5.477225575051661"
      ]
     },
     "execution_count": 3,
     "metadata": {},
     "output_type": "execute_result"
    }
   ],
   "source": [
    "linalg.norm(A)"
   ]
  },
  {
   "cell_type": "code",
   "execution_count": 4,
   "id": "71262393-fc18-4de7-9e02-a4c7897813e4",
   "metadata": {
    "tags": []
   },
   "outputs": [
    {
     "data": {
      "text/plain": [
       "5.477225575051661"
      ]
     },
     "execution_count": 4,
     "metadata": {},
     "output_type": "execute_result"
    }
   ],
   "source": [
    "linalg.norm(A,\"fro\")"
   ]
  },
  {
   "cell_type": "code",
   "execution_count": 5,
   "id": "f519f6e2-0237-4b05-8021-036a0abf2df6",
   "metadata": {
    "tags": []
   },
   "outputs": [
    {
     "data": {
      "text/plain": [
       "6.0"
      ]
     },
     "execution_count": 5,
     "metadata": {},
     "output_type": "execute_result"
    }
   ],
   "source": [
    "# L1 norm (max column sum)\n",
    "linalg.norm(A,1)"
   ]
  },
  {
   "cell_type": "code",
   "execution_count": 6,
   "id": "7ae669f4-5d67-4d80-b115-cd212107adaa",
   "metadata": {
    "tags": []
   },
   "outputs": [
    {
     "data": {
      "text/plain": [
       "4.0"
      ]
     },
     "execution_count": 6,
     "metadata": {},
     "output_type": "execute_result"
    }
   ],
   "source": [
    "# L1 norm (min column sum)\n",
    "linalg.norm(A,-1)"
   ]
  },
  {
   "cell_type": "code",
   "execution_count": 7,
   "id": "5d4b5e08-c523-4126-9175-ce70873bd14e",
   "metadata": {
    "tags": []
   },
   "outputs": [
    {
     "data": {
      "text/plain": [
       "7.0"
      ]
     },
     "execution_count": 7,
     "metadata": {},
     "output_type": "execute_result"
    }
   ],
   "source": [
    "# max row sum\n",
    "linalg.norm(A,np.inf)"
   ]
  }
 ],
 "metadata": {
  "kernelspec": {
   "display_name": "Python 3 (ipykernel)",
   "language": "python",
   "name": "python3"
  },
  "language_info": {
   "codemirror_mode": {
    "name": "ipython",
    "version": 3
   },
   "file_extension": ".py",
   "mimetype": "text/x-python",
   "name": "python",
   "nbconvert_exporter": "python",
   "pygments_lexer": "ipython3",
   "version": "3.10.10"
  }
 },
 "nbformat": 4,
 "nbformat_minor": 5
}
